{
 "cells": [
  {
   "cell_type": "markdown",
   "metadata": {},
   "source": [
    "# WeatherPy\n",
    "---------"
   ]
  },
  {
   "cell_type": "code",
   "execution_count": 1,
   "metadata": {},
   "outputs": [],
   "source": [
    "%load_ext lab_black\n",
    "import matplotlib.pyplot as plt\n",
    "import pandas as pd\n",
    "import requests\n",
    "import numpy as np\n",
    "import datetime\n",
    "from scipy.stats import linregress\n",
    "\n",
    "# Import citipy to determine city\n",
    "from citipy import citipy\n",
    "\n",
    "# import API key\n",
    "from api_keys import weather_api_key"
   ]
  },
  {
   "cell_type": "code",
   "execution_count": 2,
   "metadata": {},
   "outputs": [
    {
     "data": {
      "text/plain": [
       "591"
      ]
     },
     "execution_count": 2,
     "metadata": {},
     "output_type": "execute_result"
    }
   ],
   "source": [
    "# Generate cities list\n",
    "cities = []\n",
    "lat_lngs = []\n",
    "\n",
    "# Create set of random lat and lng combos\n",
    "lats = np.random.uniform(low=-90.000, high=90.000, size=1500)\n",
    "lngs = np.random.uniform(low=-180.000, high=180.000, size=1500)\n",
    "lat_lngs = zip(lats, lngs)\n",
    "\n",
    "# Identify nearest city for the lat, lng\n",
    "for lat_lng in lat_lngs:\n",
    "    city = citipy.nearest_city(lat_lng[0], lat_lng[1]).city_name\n",
    "\n",
    "    # add unique cities\n",
    "    if city not in cities:\n",
    "        cities.append(city)\n",
    "\n",
    "len(cities)"
   ]
  },
  {
   "cell_type": "markdown",
   "metadata": {},
   "source": [
    "# Perform API Calls\n",
    "* Perform a weather check on each city using a series of successive API calls"
   ]
  },
  {
   "cell_type": "code",
   "execution_count": 3,
   "metadata": {},
   "outputs": [
    {
     "name": "stdout",
     "output_type": "stream",
     "text": [
      "Beginning Data Retrival\n",
      "------------------------------\n",
      "Processing Record 1|livingston\n",
      "Processing Record 2|castro\n",
      "Processing Record 3|ilulissat\n",
      "Processing Record 4|butaritari\n",
      "Processing Record 5|tuatapere\n",
      "Processing Record 6|busselton\n",
      "Processing Record 7|punta arenas\n",
      "Processing Record 8|pochutla\n",
      "Processing Record 9|saskylakh\n",
      "Processing Record 10|bakal\n",
      "Processing Record 11|hobyo\n",
      "Processing Record 12|bluff\n",
      "Processing Record 13|puerto ayora\n",
      "Processing Record 14|ikare\n",
      "City not found\n",
      "Processing Record 15|chodavaram\n",
      "Processing Record 16|yellowknife\n",
      "City not found\n",
      "Processing Record 17|khandbari\n",
      "Processing Record 18|udachnyy\n",
      "City not found\n",
      "Processing Record 19|talnakh\n",
      "Processing Record 20|grand gaube\n",
      "Processing Record 21|hobart\n",
      "Processing Record 22|umm bab\n",
      "Processing Record 23|pevek\n",
      "City not found\n",
      "Processing Record 24|saint-philippe\n",
      "Processing Record 25|taoudenni\n",
      "Processing Record 26|lewistown\n",
      "Processing Record 27|lampazos de naranjo\n",
      "Processing Record 28|praia da vitoria\n",
      "Processing Record 29|rikitea\n",
      "Processing Record 30|victoria\n",
      "Processing Record 31|cape town\n",
      "Processing Record 32|tuktoyaktuk\n",
      "Processing Record 33|atuona\n",
      "Processing Record 34|kavieng\n",
      "Processing Record 35|gazojak\n",
      "City not found\n",
      "Processing Record 36|bamnet narong\n",
      "Processing Record 37|thompson\n",
      "Processing Record 38|mahebourg\n",
      "City not found\n",
      "City not found\n",
      "Processing Record 39|hermanus\n",
      "Processing Record 40|ushuaia\n",
      "Processing Record 41|dikson\n",
      "Processing Record 42|tarakan\n",
      "Processing Record 43|eyl\n",
      "Processing Record 44|bredasdorp\n",
      "Processing Record 45|kavaratti\n",
      "Processing Record 46|port elizabeth\n",
      "Processing Record 47|waipawa\n",
      "Processing Record 48|tiksi\n",
      "Processing Record 49|barrow\n",
      "Processing Record 50|mar del plata\n",
      "Processing Record 51|mataura\n",
      "City not found\n",
      "Processing Record 52|narsaq\n",
      "City not found\n",
      "Processing Record 53|farnham\n",
      "Processing Record 54|puerto escondido\n",
      "Processing Record 55|sibolga\n",
      "Processing Record 56|khatanga\n",
      "Processing Record 57|niteroi\n",
      "Processing Record 58|port alfred\n",
      "Processing Record 59|georgetown\n",
      "Processing Record 60|kettering\n",
      "Processing Record 61|cabo san lucas\n",
      "Processing Record 62|teya\n",
      "Processing Record 63|chabahar\n",
      "Processing Record 64|bani walid\n",
      "Processing Record 65|cherskiy\n",
      "Processing Record 66|latung\n",
      "Processing Record 67|sicamous\n",
      "Processing Record 68|halmaj\n",
      "City not found\n",
      "Processing Record 69|ayan\n",
      "Processing Record 70|hasaki\n",
      "Processing Record 71|carnarvon\n",
      "Processing Record 72|miyako\n",
      "Processing Record 73|hithadhoo\n",
      "Processing Record 74|new norfolk\n",
      "Processing Record 75|waitati\n",
      "Processing Record 76|albany\n",
      "Processing Record 77|olafsvik\n",
      "Processing Record 78|vaini\n",
      "Processing Record 79|miram shah\n",
      "Processing Record 80|kapaa\n",
      "Processing Record 81|lebu\n",
      "Processing Record 82|bafoulabe\n",
      "Processing Record 83|tornio\n",
      "Processing Record 84|rudarpur\n",
      "Processing Record 85|portland\n",
      "Processing Record 86|pangnirtung\n",
      "Processing Record 87|kodiak\n",
      "Processing Record 88|pisco\n",
      "Processing Record 89|avarua\n",
      "Processing Record 90|havre-saint-pierre\n",
      "Processing Record 91|tinaquillo\n",
      "Processing Record 92|evensk\n",
      "Processing Record 93|port hardy\n",
      "Processing Record 94|jamestown\n",
      "Processing Record 95|mahibadhoo\n",
      "Processing Record 96|axim\n",
      "Processing Record 97|fortuna\n",
      "Processing Record 98|jishui\n",
      "Processing Record 99|mwinilunga\n",
      "Processing Record 100|chuy\n",
      "Processing Record 101|kaitangata\n",
      "City not found\n",
      "Processing Record 102|east london\n",
      "Processing Record 103|asau\n",
      "Processing Record 104|lasa\n",
      "Processing Record 105|askarovo\n",
      "Processing Record 106|airai\n",
      "Processing Record 107|sao filipe\n",
      "Processing Record 108|oistins\n",
      "Processing Record 109|ribeira grande\n",
      "Processing Record 110|fairbanks\n",
      "Processing Record 111|chokurdakh\n",
      "Processing Record 112|camacha\n",
      "City not found\n",
      "Processing Record 113|lively\n",
      "Processing Record 114|mount isa\n",
      "Processing Record 115|bambous virieux\n",
      "City not found\n",
      "Processing Record 116|lagoa\n",
      "City not found\n",
      "Processing Record 117|kresttsy\n",
      "Processing Record 118|coquimbo\n",
      "Processing Record 119|paraiso\n",
      "City not found\n",
      "Processing Record 120|severo-kurilsk\n",
      "Processing Record 121|norman wells\n",
      "Processing Record 122|williamsport\n",
      "Processing Record 123|pangody\n",
      "Processing Record 124|itagi\n",
      "Processing Record 125|umm lajj\n",
      "Processing Record 126|kismayo\n",
      "Processing Record 127|san ramon\n",
      "Processing Record 128|ostroh\n",
      "Processing Record 129|qaanaaq\n",
      "Processing Record 130|oakland\n",
      "Processing Record 131|kudahuvadhoo\n",
      "Processing Record 132|yeppoon\n",
      "Processing Record 133|sao miguel do araguaia\n",
      "Processing Record 134|ambilobe\n",
      "Processing Record 135|tasiilaq\n",
      "City not found\n",
      "Processing Record 136|ampanihy\n",
      "Processing Record 137|labranzagrande\n",
      "Processing Record 138|coruripe\n",
      "Processing Record 139|labuhan\n",
      "Processing Record 140|san luis\n",
      "Processing Record 141|kodinsk\n",
      "Processing Record 142|lata\n",
      "Processing Record 143|aswan\n",
      "Processing Record 144|ponta do sol\n",
      "Processing Record 145|marzuq\n",
      "Processing Record 146|saint-paul\n",
      "City not found\n",
      "Processing Record 147|necochea\n",
      "Processing Record 148|disna\n",
      "Processing Record 149|vardo\n",
      "Processing Record 150|cootehill\n",
      "Processing Record 151|ishigaki\n",
      "Processing Record 152|pullman\n",
      "Processing Record 153|westport\n",
      "Processing Record 154|caravelas\n",
      "Processing Record 155|uribia\n",
      "Processing Record 156|summerland\n",
      "Processing Record 157|arraial do cabo\n",
      "Processing Record 158|saint george\n",
      "Processing Record 159|provideniya\n",
      "Processing Record 160|ladesti\n",
      "Processing Record 161|hamilton\n",
      "Processing Record 162|khani\n",
      "City not found\n",
      "Processing Record 163|dandong\n",
      "Processing Record 164|venta\n",
      "City not found\n",
      "Processing Record 165|semirom\n",
      "Processing Record 166|nikolskoye\n",
      "Processing Record 167|rawson\n",
      "Processing Record 168|faanui\n",
      "Processing Record 169|onokhoy\n",
      "Processing Record 170|gijon\n",
      "Processing Record 171|benguela\n",
      "Processing Record 172|saldanha\n",
      "Processing Record 173|abonnema\n",
      "Processing Record 174|vila praia de ancora\n",
      "Processing Record 175|turan\n",
      "Processing Record 176|cidreira\n",
      "Processing Record 177|tezu\n",
      "Processing Record 178|kokopo\n",
      "Processing Record 179|hilo\n",
      "Processing Record 180|san patricio\n",
      "Processing Record 181|viedma\n",
      "Processing Record 182|longyearbyen\n",
      "Processing Record 183|pajapan\n",
      "City not found\n",
      "Processing Record 184|auki\n",
      "Processing Record 185|sandur\n",
      "Processing Record 186|sao joao da barra\n",
      "Processing Record 187|lalin\n",
      "Processing Record 188|haines junction\n",
      "Processing Record 189|maneadero\n",
      "Processing Record 190|belaya gora\n",
      "Processing Record 191|krasnoshchekovo\n",
      "Processing Record 192|sambava\n",
      "Processing Record 193|clyde river\n",
      "Processing Record 194|guerrero negro\n",
      "Processing Record 195|mount vernon\n",
      "Processing Record 196|akyab\n",
      "Processing Record 197|krasnoselkup\n",
      "City not found\n",
      "Processing Record 198|thinadhoo\n",
      "Processing Record 199|cabra\n",
      "City not found\n",
      "Processing Record 200|harnosand\n",
      "Processing Record 201|george town\n",
      "Processing Record 202|contamana\n",
      "City not found\n",
      "Processing Record 203|pakxan\n",
      "City not found\n",
      "Processing Record 204|kota tinggi\n",
      "Processing Record 205|rumuruti\n",
      "City not found\n",
      "Processing Record 206|college place\n",
      "Processing Record 207|laguna\n",
      "Processing Record 208|chivilcoy\n",
      "Processing Record 209|ewa beach\n",
      "Processing Record 210|shubarkuduk\n",
      "Processing Record 211|diamantino\n",
      "Processing Record 212|iqaluit\n",
      "Processing Record 213|marsh harbour\n",
      "Processing Record 214|belyy yar\n",
      "Processing Record 215|saint joseph\n",
      "Processing Record 216|kazachinskoye\n",
      "Processing Record 217|temple\n",
      "Processing Record 218|geraldton\n",
      "Processing Record 219|manta\n",
      "Processing Record 220|klaksvik\n",
      "City not found\n",
      "Processing Record 221|casablanca\n",
      "Processing Record 222|malakal\n",
      "Processing Record 223|torbay\n",
      "Processing Record 224|itarema\n",
      "Processing Record 225|the valley\n",
      "Processing Record 226|onguday\n",
      "Processing Record 227|bethel\n",
      "Processing Record 228|wegorzewo\n",
      "Processing Record 229|krasnoarmeysk\n",
      "Processing Record 230|cunha\n",
      "Processing Record 231|leshan\n",
      "Processing Record 232|aklavik\n",
      "Processing Record 233|longonjo\n",
      "Processing Record 234|ilo\n",
      "Processing Record 235|kirakira\n",
      "Processing Record 236|touros\n",
      "Processing Record 237|half moon bay\n",
      "Processing Record 238|matelandia\n",
      "Processing Record 239|gejiu\n",
      "Processing Record 240|francisco sa\n",
      "Processing Record 241|ancud\n",
      "Processing Record 242|parit raja\n",
      "Processing Record 243|florianopolis\n",
      "Processing Record 244|oranjestad\n",
      "Processing Record 245|saint anthony\n",
      "Processing Record 246|hun\n",
      "Processing Record 247|asfi\n",
      "Processing Record 248|yulara\n",
      "Processing Record 249|vao\n",
      "Processing Record 250|luderitz\n",
      "Processing Record 251|sioux lookout\n",
      "Processing Record 252|salalah\n",
      "Processing Record 253|medea\n",
      "Processing Record 254|davila\n",
      "Processing Record 255|weihe\n",
      "Processing Record 256|bilma\n",
      "Processing Record 257|wasilla\n",
      "Processing Record 258|port keats\n",
      "Processing Record 259|parabel\n",
      "Processing Record 260|kamenka\n",
      "Processing Record 261|pese\n",
      "Processing Record 262|nador\n",
      "Processing Record 263|mweka\n",
      "Processing Record 264|roebourne\n",
      "Processing Record 265|ribas do rio pardo\n",
      "Processing Record 266|namibe\n",
      "Processing Record 267|kruisfontein\n",
      "Processing Record 268|cayenne\n",
      "Processing Record 269|kirensk\n",
      "Processing Record 270|nosy varika\n",
      "Processing Record 271|qostanay\n",
      "Processing Record 272|ucluelet\n",
      "Processing Record 273|kirkenaer\n",
      "Processing Record 274|barbastro\n",
      "City not found\n",
      "Processing Record 275|acarau\n",
      "Processing Record 276|rolla\n",
      "Processing Record 277|antofagasta\n",
      "City not found\n",
      "Processing Record 278|bodden town\n",
      "Processing Record 279|bandarbeyla\n",
      "Processing Record 280|port macquarie\n",
      "Processing Record 281|mezen\n",
      "Processing Record 282|sorland\n",
      "Processing Record 283|sovetsk\n",
      "Processing Record 284|farah\n",
      "Processing Record 285|bengkulu\n",
      "Processing Record 286|esperance\n",
      "Processing Record 287|serov\n",
      "Processing Record 288|constitucion\n",
      "Processing Record 289|marsa matruh\n",
      "Processing Record 290|satis\n",
      "Processing Record 291|bend\n",
      "Processing Record 292|nijar\n",
      "Processing Record 293|okhotsk\n",
      "Processing Record 294|champasak\n",
      "Processing Record 295|vila franca do campo\n",
      "Processing Record 296|altay\n",
      "Processing Record 297|rio gallegos\n",
      "Processing Record 298|sitka\n",
      "Processing Record 299|cascais\n",
      "Processing Record 300|alibag\n",
      "Processing Record 301|port hedland\n",
      "Processing Record 302|aksu\n",
      "Processing Record 303|tallahassee\n",
      "Processing Record 304|carutapera\n",
      "Processing Record 305|aden\n",
      "Processing Record 306|verkh-usugli\n",
      "Processing Record 307|gafanha da encarnacao\n",
      "Processing Record 308|biak\n",
      "Processing Record 309|frontera\n",
      "Processing Record 310|quevedo\n",
      "Processing Record 311|chernivtsi\n",
      "Processing Record 312|pavlohrad\n",
      "Processing Record 313|berbera\n",
      "City not found\n",
      "Processing Record 314|alofi\n",
      "Processing Record 315|poltava\n",
      "Processing Record 316|umea\n",
      "Processing Record 317|port lincoln\n",
      "Processing Record 318|bathsheba\n",
      "Processing Record 319|merauke\n",
      "Processing Record 320|beaumont\n",
      "Processing Record 321|bijie\n",
      "Processing Record 322|sur\n",
      "Processing Record 323|burnie\n",
      "City not found\n",
      "Processing Record 324|nsanje\n",
      "Processing Record 325|college\n",
      "Processing Record 326|shangzhi\n",
      "Processing Record 327|boa vista\n",
      "Processing Record 328|itupiranga\n",
      "Processing Record 329|sogne\n",
      "Processing Record 330|novyy urengoy\n",
      "Processing Record 331|castres\n",
      "Processing Record 332|kalisz\n",
      "Processing Record 333|passi\n",
      "Processing Record 334|riyadh\n",
      "Processing Record 335|turbat\n",
      "Processing Record 336|comodoro rivadavia\n",
      "Processing Record 337|ayaviri\n",
      "Processing Record 338|rocha\n",
      "Processing Record 339|chapleau\n",
      "Processing Record 340|de aar\n",
      "Processing Record 341|lumberton\n",
      "Processing Record 342|syracuse\n",
      "Processing Record 343|walvis bay\n",
      "Processing Record 344|jalu\n",
      "Processing Record 345|puerto suarez\n",
      "Processing Record 346|nadym\n",
      "City not found\n",
      "Processing Record 347|petauke\n",
      "Processing Record 348|yangjiang\n",
      "Processing Record 349|porto novo\n",
      "Processing Record 350|san cristobal\n",
      "Processing Record 351|biltine\n",
      "Processing Record 352|seymchan\n",
      "Processing Record 353|araouane\n",
      "Processing Record 354|erenhot\n",
      "Processing Record 355|aranos\n",
      "Processing Record 356|akonolinga\n",
      "Processing Record 357|hirara\n",
      "Processing Record 358|inirida\n",
      "Processing Record 359|takoradi\n",
      "City not found\n",
      "Processing Record 360|luwingu\n",
      "Processing Record 361|san policarpo\n",
      "Processing Record 362|kasulu\n",
      "Processing Record 363|koppa\n",
      "Processing Record 364|kaspiysk\n",
      "Processing Record 365|richards bay\n",
      "Processing Record 366|port blair\n",
      "Processing Record 367|izmalkovo\n",
      "Processing Record 368|reyes\n",
      "Processing Record 369|wilmington\n",
      "Processing Record 370|zhanaozen\n",
      "Processing Record 371|wenling\n",
      "Processing Record 372|palestina\n",
      "City not found\n",
      "Processing Record 373|opuwo\n",
      "Processing Record 374|mogadishu\n",
      "Processing Record 375|vega de alatorre\n",
      "Processing Record 376|roma\n",
      "Processing Record 377|maragogi\n",
      "Processing Record 378|washington\n",
      "Processing Record 379|wajid\n",
      "Processing Record 380|kununurra\n",
      "Processing Record 381|torrington\n",
      "Processing Record 382|nicoya\n",
      "Processing Record 383|copiapo\n",
      "Processing Record 384|urumqi\n",
      "Processing Record 385|ahuimanu\n",
      "Processing Record 386|mbala\n",
      "Processing Record 387|rio grande\n",
      "City not found\n",
      "Processing Record 388|hofn\n",
      "Processing Record 389|tura\n",
      "Processing Record 390|jibuti\n",
      "Processing Record 391|kondopoga\n",
      "Processing Record 392|dunedin\n",
      "Processing Record 393|codrington\n",
      "Processing Record 394|oriximina\n",
      "Processing Record 395|alexandria\n",
      "Processing Record 396|hami\n",
      "City not found\n",
      "Processing Record 397|aljezur\n",
      "Processing Record 398|kloulklubed\n",
      "Processing Record 399|sibu\n",
      "Processing Record 400|dingle\n",
      "Processing Record 401|nanortalik\n",
      "Processing Record 402|kutum\n",
      "Processing Record 403|isangel\n",
      "Processing Record 404|manacapuru\n",
      "Processing Record 405|leningradskiy\n",
      "Processing Record 406|cairo\n",
      "Processing Record 407|tacoronte\n",
      "Processing Record 408|amapa\n",
      "Processing Record 409|namanga\n",
      "Processing Record 410|anadyr\n",
      "Processing Record 411|eyrarbakki\n",
      "Processing Record 412|aykhal\n",
      "Processing Record 413|manggar\n",
      "Processing Record 414|lesnikovo\n",
      "Processing Record 415|petropavlovsk-kamchatskiy\n",
      "Processing Record 416|zharkent\n",
      "Processing Record 417|tongzhou\n",
      "Processing Record 418|lompoc\n",
      "Processing Record 419|shingu\n",
      "Processing Record 420|saint-augustin\n",
      "Processing Record 421|pueblo rico\n",
      "Processing Record 422|abha\n",
      "Processing Record 423|mayo\n",
      "Processing Record 424|copperas cove\n",
      "Processing Record 425|port-gentil\n",
      "Processing Record 426|andenes\n",
      "Processing Record 427|yinchuan\n",
      "Processing Record 428|naze\n",
      "Processing Record 429|palauig\n",
      "Processing Record 430|goderich\n",
      "City not found\n",
      "Processing Record 431|maniitsoq\n",
      "Processing Record 432|puerto madryn\n",
      "Processing Record 433|invermere\n",
      "Processing Record 434|honiara\n",
      "Processing Record 435|meulaboh\n",
      "Processing Record 436|along\n",
      "Processing Record 437|xining\n",
      "Processing Record 438|qandala\n",
      "Processing Record 439|cauquenes\n",
      "Processing Record 440|brae\n",
      "Processing Record 441|taksimo\n",
      "Processing Record 442|port hawkesbury\n",
      "City not found\n",
      "Processing Record 443|lapua\n",
      "Processing Record 444|humaita\n",
      "Processing Record 445|ostrovnoy\n",
      "Processing Record 446|souillac\n",
      "Processing Record 447|quatre cocos\n",
      "Processing Record 448|kabanjahe\n",
      "Processing Record 449|vestmannaeyjar\n",
      "Processing Record 450|black river\n",
      "Processing Record 451|tymovskoye\n",
      "Processing Record 452|pervoye maya\n",
      "Processing Record 453|leh\n",
      "Processing Record 454|saint-francois\n",
      "Processing Record 455|shenjiamen\n",
      "Processing Record 456|ouahigouya\n",
      "Processing Record 457|felanitx\n",
      "Processing Record 458|matamoros\n",
      "Processing Record 459|constantine\n",
      "Processing Record 460|darnah\n",
      "Processing Record 461|bandar-e lengeh\n",
      "Processing Record 462|maryborough\n",
      "Processing Record 463|kalmunai\n",
      "Processing Record 464|bekhtery\n",
      "Processing Record 465|hokitika\n",
      "Processing Record 466|faya\n",
      "Processing Record 467|caconda\n",
      "Processing Record 468|massakory\n",
      "City not found\n",
      "Processing Record 469|port shepstone\n",
      "Processing Record 470|zlitan\n",
      "Processing Record 471|north platte\n",
      "Processing Record 472|olinda\n",
      "Processing Record 473|tiarei\n",
      "Processing Record 474|le passage\n",
      "Processing Record 475|gashua\n",
      "Processing Record 476|surt\n",
      "Processing Record 477|deputatskiy\n",
      "Processing Record 478|sisimiut\n",
      "Processing Record 479|changping\n",
      "Processing Record 480|bambanglipuro\n",
      "Processing Record 481|merrill\n",
      "Processing Record 482|pokhara\n",
      "Processing Record 483|lazaro cardenas\n",
      "Processing Record 484|craig\n",
      "Processing Record 485|nome\n",
      "Processing Record 486|jimma\n",
      "City not found\n",
      "Processing Record 487|alta\n",
      "Processing Record 488|messina\n",
      "Processing Record 489|sisophon\n",
      "Processing Record 490|batagay-alyta\n",
      "Processing Record 491|isla mujeres\n",
      "Processing Record 492|mosetse\n",
      "Processing Record 493|dali\n",
      "Processing Record 494|mocuba\n",
      "Processing Record 495|bam\n",
      "Processing Record 496|manhuacu\n",
      "Processing Record 497|hervey bay\n",
      "Processing Record 498|tomatlan\n",
      "Processing Record 499|posse\n",
      "Processing Record 500|jaicos\n",
      "Processing Record 501|bulungu\n",
      "Processing Record 502|magadi\n",
      "Processing Record 503|kamyshevatskaya\n",
      "Processing Record 504|anito\n",
      "Processing Record 505|saint-pierre\n",
      "Processing Record 506|mto wa mbu\n",
      "Processing Record 507|shimoda\n",
      "Processing Record 508|bose\n",
      "Processing Record 509|kahului\n",
      "Processing Record 510|santa rosa\n",
      "Processing Record 511|hualmay\n",
      "Processing Record 512|nefteyugansk\n",
      "City not found\n",
      "Processing Record 513|tashla\n",
      "Processing Record 514|sayanogorsk\n",
      "Processing Record 515|bilibino\n",
      "Processing Record 516|mikuni\n",
      "Processing Record 517|hereford\n",
      "Processing Record 518|kargasok\n",
      "Processing Record 519|gazanjyk\n",
      "Processing Record 520|urucui\n",
      "Processing Record 521|oktyabrskoye\n",
      "Processing Record 522|neijiang\n",
      "Processing Record 523|san joaquin\n",
      "Processing Record 524|baker city\n",
      "Processing Record 525|jizan\n",
      "Processing Record 526|hede\n",
      "Processing Record 527|villa carlos paz\n",
      "Processing Record 528|dakar\n",
      "Processing Record 529|lusambo\n",
      "Processing Record 530|ibra\n",
      "Processing Record 531|dartford\n",
      "Processing Record 532|okha\n",
      "Processing Record 533|glace bay\n",
      "City not found\n",
      "Processing Record 534|bud\n",
      "City not found\n",
      "Processing Record 535|tremembe\n",
      "City not found\n",
      "City not found\n",
      "Processing Record 536|meiganga\n",
      "Processing Record 537|quesnel\n",
      "Processing Record 538|paonta sahib\n",
      "Processing Record 539|valparaiso\n",
      "Processing Record 540|paracuru\n",
      "City not found\n",
      "Processing Record 541|at-bashi\n",
      "Processing Record 542|gojo\n",
      "Processing Record 543|bucerias\n",
      "Processing Record 544|belogorsk\n",
      "Processing Record 545|san rafael\n",
      "Processing Record 546|ixtapa\n",
      "------------------------------\n",
      "Data Retrieval Complete\n",
      "------------------------------\n"
     ]
    }
   ],
   "source": [
    "# Create lists for the weather findings of each city\n",
    "city_name = []\n",
    "country = []\n",
    "date = []\n",
    "lat_list = []\n",
    "lng_list = []\n",
    "max_temp = []\n",
    "cloudiness = []\n",
    "humidity = []\n",
    "wind_speed = []\n",
    "i = 1\n",
    "\n",
    "\n",
    "print(\"Beginning Data Retrival\")\n",
    "print(\"-\" * 30)\n",
    "\n",
    "for city in cities:\n",
    "\n",
    "    r = requests.get(\n",
    "        \"http://api.openweathermap.org/data/2.5/weather?\",\n",
    "        params={\"units\": \"imperial\", \"appid\": weather_api_key, \"q\": city,},\n",
    "    ).json()\n",
    "\n",
    "    try:\n",
    "        city_name.append(r[\"name\"])\n",
    "        country.append(r[\"sys\"][\"country\"])\n",
    "        date.append(r[\"dt\"])\n",
    "        lat_list.append(r[\"coord\"][\"lat\"])\n",
    "        lng_list.append(r[\"coord\"][\"lon\"])\n",
    "        max_temp.append(r[\"main\"][\"temp_max\"])\n",
    "        cloudiness.append(r[\"clouds\"][\"all\"])\n",
    "        humidity.append(r[\"main\"][\"humidity\"])\n",
    "        wind_speed.append(r[\"wind\"][\"speed\"])\n",
    "\n",
    "        print(f\"Processing Record {i}|{city}\")\n",
    "        i += 1\n",
    "\n",
    "    except (KeyError, IndexError):\n",
    "        print(\"City not found\")\n",
    "\n",
    "print(\"-\" * 30)\n",
    "print(\"Data Retrieval Complete\")\n",
    "print(\"-\" * 30)"
   ]
  },
  {
   "cell_type": "markdown",
   "metadata": {},
   "source": [
    "# Convert Raw Data to a DataFrame\n",
    "* Export the city data into a csv file"
   ]
  },
  {
   "cell_type": "code",
   "execution_count": 4,
   "metadata": {},
   "outputs": [
    {
     "data": {
      "text/html": [
       "<div>\n",
       "<style scoped>\n",
       "    .dataframe tbody tr th:only-of-type {\n",
       "        vertical-align: middle;\n",
       "    }\n",
       "\n",
       "    .dataframe tbody tr th {\n",
       "        vertical-align: top;\n",
       "    }\n",
       "\n",
       "    .dataframe thead th {\n",
       "        text-align: right;\n",
       "    }\n",
       "</style>\n",
       "<table border=\"1\" class=\"dataframe\">\n",
       "  <thead>\n",
       "    <tr style=\"text-align: right;\">\n",
       "      <th></th>\n",
       "      <th>City</th>\n",
       "      <th>Country</th>\n",
       "      <th>Date</th>\n",
       "      <th>Max Temp</th>\n",
       "      <th>Clouds</th>\n",
       "      <th>Humidity</th>\n",
       "      <th>Wind Speed</th>\n",
       "      <th>Lat</th>\n",
       "      <th>Lng</th>\n",
       "    </tr>\n",
       "    <tr>\n",
       "      <th>City ID</th>\n",
       "      <th></th>\n",
       "      <th></th>\n",
       "      <th></th>\n",
       "      <th></th>\n",
       "      <th></th>\n",
       "      <th></th>\n",
       "      <th></th>\n",
       "      <th></th>\n",
       "      <th></th>\n",
       "    </tr>\n",
       "  </thead>\n",
       "  <tbody>\n",
       "    <tr>\n",
       "      <th>0</th>\n",
       "      <td>Livingston</td>\n",
       "      <td>GB</td>\n",
       "      <td>1608576268</td>\n",
       "      <td>42.01</td>\n",
       "      <td>90</td>\n",
       "      <td>100</td>\n",
       "      <td>2.24</td>\n",
       "      <td>55.90</td>\n",
       "      <td>-3.52</td>\n",
       "    </tr>\n",
       "    <tr>\n",
       "      <th>1</th>\n",
       "      <td>Castro</td>\n",
       "      <td>BR</td>\n",
       "      <td>1608576059</td>\n",
       "      <td>76.24</td>\n",
       "      <td>67</td>\n",
       "      <td>84</td>\n",
       "      <td>7.09</td>\n",
       "      <td>-24.79</td>\n",
       "      <td>-50.01</td>\n",
       "    </tr>\n",
       "    <tr>\n",
       "      <th>2</th>\n",
       "      <td>Ilulissat</td>\n",
       "      <td>GL</td>\n",
       "      <td>1608576269</td>\n",
       "      <td>21.20</td>\n",
       "      <td>20</td>\n",
       "      <td>53</td>\n",
       "      <td>13.87</td>\n",
       "      <td>69.22</td>\n",
       "      <td>-51.10</td>\n",
       "    </tr>\n",
       "    <tr>\n",
       "      <th>3</th>\n",
       "      <td>Butaritari</td>\n",
       "      <td>KI</td>\n",
       "      <td>1608576269</td>\n",
       "      <td>80.11</td>\n",
       "      <td>100</td>\n",
       "      <td>81</td>\n",
       "      <td>10.74</td>\n",
       "      <td>3.07</td>\n",
       "      <td>172.79</td>\n",
       "    </tr>\n",
       "    <tr>\n",
       "      <th>4</th>\n",
       "      <td>Tuatapere</td>\n",
       "      <td>NZ</td>\n",
       "      <td>1608576269</td>\n",
       "      <td>55.00</td>\n",
       "      <td>100</td>\n",
       "      <td>96</td>\n",
       "      <td>1.99</td>\n",
       "      <td>-46.13</td>\n",
       "      <td>167.68</td>\n",
       "    </tr>\n",
       "  </tbody>\n",
       "</table>\n",
       "</div>"
      ],
      "text/plain": [
       "               City Country        Date  Max Temp  Clouds  Humidity  \\\n",
       "City ID                                                               \n",
       "0        Livingston      GB  1608576268     42.01      90       100   \n",
       "1            Castro      BR  1608576059     76.24      67        84   \n",
       "2         Ilulissat      GL  1608576269     21.20      20        53   \n",
       "3        Butaritari      KI  1608576269     80.11     100        81   \n",
       "4         Tuatapere      NZ  1608576269     55.00     100        96   \n",
       "\n",
       "         Wind Speed    Lat     Lng  \n",
       "City ID                             \n",
       "0              2.24  55.90   -3.52  \n",
       "1              7.09 -24.79  -50.01  \n",
       "2             13.87  69.22  -51.10  \n",
       "3             10.74   3.07  172.79  \n",
       "4              1.99 -46.13  167.68  "
      ]
     },
     "execution_count": 4,
     "metadata": {},
     "output_type": "execute_result"
    }
   ],
   "source": [
    "# Create data frame\n",
    "city_df = pd.DataFrame(\n",
    "    {\n",
    "        \"City\": city_name,\n",
    "        \"Country\": country,\n",
    "        \"Date\": date,\n",
    "        \"Max Temp\": max_temp,\n",
    "        \"Clouds\": cloudiness,\n",
    "        \"Humidity\": humidity,\n",
    "        \"Wind Speed\": wind_speed,\n",
    "        \"Lat\": lat_list,\n",
    "        \"Lng\": lng_list,\n",
    "    }\n",
    ")\n",
    "\n",
    "city_df = city_df.rename_axis(\"City ID\")\n",
    "city_df.head()"
   ]
  },
  {
   "cell_type": "code",
   "execution_count": 6,
   "metadata": {},
   "outputs": [
    {
     "data": {
      "text/html": [
       "<div>\n",
       "<style scoped>\n",
       "    .dataframe tbody tr th:only-of-type {\n",
       "        vertical-align: middle;\n",
       "    }\n",
       "\n",
       "    .dataframe tbody tr th {\n",
       "        vertical-align: top;\n",
       "    }\n",
       "\n",
       "    .dataframe thead th {\n",
       "        text-align: right;\n",
       "    }\n",
       "</style>\n",
       "<table border=\"1\" class=\"dataframe\">\n",
       "  <thead>\n",
       "    <tr style=\"text-align: right;\">\n",
       "      <th></th>\n",
       "      <th>City</th>\n",
       "      <th>Country</th>\n",
       "      <th>Date</th>\n",
       "      <th>Max Temp</th>\n",
       "      <th>Clouds</th>\n",
       "      <th>Humidity</th>\n",
       "      <th>Wind Speed</th>\n",
       "      <th>Lat</th>\n",
       "      <th>Lng</th>\n",
       "    </tr>\n",
       "    <tr>\n",
       "      <th>City ID</th>\n",
       "      <th></th>\n",
       "      <th></th>\n",
       "      <th></th>\n",
       "      <th></th>\n",
       "      <th></th>\n",
       "      <th></th>\n",
       "      <th></th>\n",
       "      <th></th>\n",
       "      <th></th>\n",
       "    </tr>\n",
       "  </thead>\n",
       "  <tbody>\n",
       "    <tr>\n",
       "      <th>0</th>\n",
       "      <td>Livingston</td>\n",
       "      <td>GB</td>\n",
       "      <td>1608576268</td>\n",
       "      <td>42.01</td>\n",
       "      <td>90</td>\n",
       "      <td>100</td>\n",
       "      <td>2.24</td>\n",
       "      <td>55.90</td>\n",
       "      <td>-3.52</td>\n",
       "    </tr>\n",
       "    <tr>\n",
       "      <th>1</th>\n",
       "      <td>Castro</td>\n",
       "      <td>BR</td>\n",
       "      <td>1608576059</td>\n",
       "      <td>76.24</td>\n",
       "      <td>67</td>\n",
       "      <td>84</td>\n",
       "      <td>7.09</td>\n",
       "      <td>-24.79</td>\n",
       "      <td>-50.01</td>\n",
       "    </tr>\n",
       "    <tr>\n",
       "      <th>2</th>\n",
       "      <td>Ilulissat</td>\n",
       "      <td>GL</td>\n",
       "      <td>1608576269</td>\n",
       "      <td>21.20</td>\n",
       "      <td>20</td>\n",
       "      <td>53</td>\n",
       "      <td>13.87</td>\n",
       "      <td>69.22</td>\n",
       "      <td>-51.10</td>\n",
       "    </tr>\n",
       "    <tr>\n",
       "      <th>3</th>\n",
       "      <td>Butaritari</td>\n",
       "      <td>KI</td>\n",
       "      <td>1608576269</td>\n",
       "      <td>80.11</td>\n",
       "      <td>100</td>\n",
       "      <td>81</td>\n",
       "      <td>10.74</td>\n",
       "      <td>3.07</td>\n",
       "      <td>172.79</td>\n",
       "    </tr>\n",
       "    <tr>\n",
       "      <th>4</th>\n",
       "      <td>Tuatapere</td>\n",
       "      <td>NZ</td>\n",
       "      <td>1608576269</td>\n",
       "      <td>55.00</td>\n",
       "      <td>100</td>\n",
       "      <td>96</td>\n",
       "      <td>1.99</td>\n",
       "      <td>-46.13</td>\n",
       "      <td>167.68</td>\n",
       "    </tr>\n",
       "    <tr>\n",
       "      <th>...</th>\n",
       "      <td>...</td>\n",
       "      <td>...</td>\n",
       "      <td>...</td>\n",
       "      <td>...</td>\n",
       "      <td>...</td>\n",
       "      <td>...</td>\n",
       "      <td>...</td>\n",
       "      <td>...</td>\n",
       "      <td>...</td>\n",
       "    </tr>\n",
       "    <tr>\n",
       "      <th>541</th>\n",
       "      <td>Gojō</td>\n",
       "      <td>JP</td>\n",
       "      <td>1608576362</td>\n",
       "      <td>46.40</td>\n",
       "      <td>86</td>\n",
       "      <td>61</td>\n",
       "      <td>12.75</td>\n",
       "      <td>34.35</td>\n",
       "      <td>135.70</td>\n",
       "    </tr>\n",
       "    <tr>\n",
       "      <th>542</th>\n",
       "      <td>Bucerías</td>\n",
       "      <td>MX</td>\n",
       "      <td>1608576363</td>\n",
       "      <td>77.00</td>\n",
       "      <td>75</td>\n",
       "      <td>65</td>\n",
       "      <td>5.64</td>\n",
       "      <td>20.75</td>\n",
       "      <td>-105.33</td>\n",
       "    </tr>\n",
       "    <tr>\n",
       "      <th>543</th>\n",
       "      <td>Belogorsk</td>\n",
       "      <td>RU</td>\n",
       "      <td>1608576363</td>\n",
       "      <td>3.34</td>\n",
       "      <td>100</td>\n",
       "      <td>94</td>\n",
       "      <td>4.59</td>\n",
       "      <td>50.92</td>\n",
       "      <td>128.46</td>\n",
       "    </tr>\n",
       "    <tr>\n",
       "      <th>544</th>\n",
       "      <td>San Rafael</td>\n",
       "      <td>AR</td>\n",
       "      <td>1608576318</td>\n",
       "      <td>90.36</td>\n",
       "      <td>0</td>\n",
       "      <td>18</td>\n",
       "      <td>15.39</td>\n",
       "      <td>-34.62</td>\n",
       "      <td>-68.33</td>\n",
       "    </tr>\n",
       "    <tr>\n",
       "      <th>545</th>\n",
       "      <td>Ixtapa</td>\n",
       "      <td>MX</td>\n",
       "      <td>1608576363</td>\n",
       "      <td>77.00</td>\n",
       "      <td>75</td>\n",
       "      <td>65</td>\n",
       "      <td>4.92</td>\n",
       "      <td>20.70</td>\n",
       "      <td>-105.20</td>\n",
       "    </tr>\n",
       "  </tbody>\n",
       "</table>\n",
       "<p>546 rows × 9 columns</p>\n",
       "</div>"
      ],
      "text/plain": [
       "               City Country        Date  Max Temp  Clouds  Humidity  \\\n",
       "City ID                                                               \n",
       "0        Livingston      GB  1608576268     42.01      90       100   \n",
       "1            Castro      BR  1608576059     76.24      67        84   \n",
       "2         Ilulissat      GL  1608576269     21.20      20        53   \n",
       "3        Butaritari      KI  1608576269     80.11     100        81   \n",
       "4         Tuatapere      NZ  1608576269     55.00     100        96   \n",
       "...             ...     ...         ...       ...     ...       ...   \n",
       "541            Gojō      JP  1608576362     46.40      86        61   \n",
       "542        Bucerías      MX  1608576363     77.00      75        65   \n",
       "543       Belogorsk      RU  1608576363      3.34     100        94   \n",
       "544      San Rafael      AR  1608576318     90.36       0        18   \n",
       "545          Ixtapa      MX  1608576363     77.00      75        65   \n",
       "\n",
       "         Wind Speed    Lat     Lng  \n",
       "City ID                             \n",
       "0              2.24  55.90   -3.52  \n",
       "1              7.09 -24.79  -50.01  \n",
       "2             13.87  69.22  -51.10  \n",
       "3             10.74   3.07  172.79  \n",
       "4              1.99 -46.13  167.68  \n",
       "...             ...    ...     ...  \n",
       "541           12.75  34.35  135.70  \n",
       "542            5.64  20.75 -105.33  \n",
       "543            4.59  50.92  128.46  \n",
       "544           15.39 -34.62  -68.33  \n",
       "545            4.92  20.70 -105.20  \n",
       "\n",
       "[546 rows x 9 columns]"
      ]
     },
     "execution_count": 6,
     "metadata": {},
     "output_type": "execute_result"
    }
   ],
   "source": [
    "# Write out to CSV file\n",
    "city_df.to_csv(\"images/city_list.csv\")\n",
    "city_df"
   ]
  },
  {
   "cell_type": "markdown",
   "metadata": {},
   "source": [
    "# Inspect the data and remove cities where humidity > 100%"
   ]
  },
  {
   "cell_type": "code",
   "execution_count": 7,
   "metadata": {},
   "outputs": [
    {
     "data": {
      "text/plain": [
       "City          0\n",
       "Country       0\n",
       "Date          0\n",
       "Max Temp      0\n",
       "Clouds        0\n",
       "Humidity      0\n",
       "Wind Speed    0\n",
       "Lat           0\n",
       "Lng           0\n",
       "dtype: int64"
      ]
     },
     "execution_count": 7,
     "metadata": {},
     "output_type": "execute_result"
    }
   ],
   "source": [
    "humid_city = city_df.loc[city_df[\"Humidity\"] > 100]\n",
    "humid_city.count()"
   ]
  },
  {
   "cell_type": "code",
   "execution_count": 8,
   "metadata": {},
   "outputs": [
    {
     "name": "stdout",
     "output_type": "stream",
     "text": [
      "Empty DataFrame\n",
      "Columns: [City, Country, Date, Max Temp, Clouds, Humidity, Wind Speed, Lat, Lng]\n",
      "Index: []\n"
     ]
    },
    {
     "data": {
      "text/plain": [
       "Int64Index([], dtype='int64', name='City ID')"
      ]
     },
     "execution_count": 8,
     "metadata": {},
     "output_type": "execute_result"
    }
   ],
   "source": [
    "# Get the indices of cities that have humidity over 100\n",
    "print(humid_city)\n",
    "index_list = city_df[(city_df[\"Humidity\"] > 100)].index\n",
    "index_list\n",
    "\n",
    "# There are no cities in my list that have a humidity over 100"
   ]
  },
  {
   "cell_type": "code",
   "execution_count": 9,
   "metadata": {},
   "outputs": [
    {
     "data": {
      "text/html": [
       "<div>\n",
       "<style scoped>\n",
       "    .dataframe tbody tr th:only-of-type {\n",
       "        vertical-align: middle;\n",
       "    }\n",
       "\n",
       "    .dataframe tbody tr th {\n",
       "        vertical-align: top;\n",
       "    }\n",
       "\n",
       "    .dataframe thead th {\n",
       "        text-align: right;\n",
       "    }\n",
       "</style>\n",
       "<table border=\"1\" class=\"dataframe\">\n",
       "  <thead>\n",
       "    <tr style=\"text-align: right;\">\n",
       "      <th></th>\n",
       "      <th>City</th>\n",
       "      <th>Country</th>\n",
       "      <th>Date</th>\n",
       "      <th>Max Temp</th>\n",
       "      <th>Clouds</th>\n",
       "      <th>Humidity</th>\n",
       "      <th>Wind Speed</th>\n",
       "      <th>Lat</th>\n",
       "      <th>Lng</th>\n",
       "    </tr>\n",
       "    <tr>\n",
       "      <th>City ID</th>\n",
       "      <th></th>\n",
       "      <th></th>\n",
       "      <th></th>\n",
       "      <th></th>\n",
       "      <th></th>\n",
       "      <th></th>\n",
       "      <th></th>\n",
       "      <th></th>\n",
       "      <th></th>\n",
       "    </tr>\n",
       "  </thead>\n",
       "  <tbody>\n",
       "    <tr>\n",
       "      <th>0</th>\n",
       "      <td>Livingston</td>\n",
       "      <td>GB</td>\n",
       "      <td>1608576268</td>\n",
       "      <td>42.01</td>\n",
       "      <td>90</td>\n",
       "      <td>100</td>\n",
       "      <td>2.24</td>\n",
       "      <td>55.90</td>\n",
       "      <td>-3.52</td>\n",
       "    </tr>\n",
       "    <tr>\n",
       "      <th>1</th>\n",
       "      <td>Castro</td>\n",
       "      <td>BR</td>\n",
       "      <td>1608576059</td>\n",
       "      <td>76.24</td>\n",
       "      <td>67</td>\n",
       "      <td>84</td>\n",
       "      <td>7.09</td>\n",
       "      <td>-24.79</td>\n",
       "      <td>-50.01</td>\n",
       "    </tr>\n",
       "    <tr>\n",
       "      <th>2</th>\n",
       "      <td>Ilulissat</td>\n",
       "      <td>GL</td>\n",
       "      <td>1608576269</td>\n",
       "      <td>21.20</td>\n",
       "      <td>20</td>\n",
       "      <td>53</td>\n",
       "      <td>13.87</td>\n",
       "      <td>69.22</td>\n",
       "      <td>-51.10</td>\n",
       "    </tr>\n",
       "    <tr>\n",
       "      <th>3</th>\n",
       "      <td>Butaritari</td>\n",
       "      <td>KI</td>\n",
       "      <td>1608576269</td>\n",
       "      <td>80.11</td>\n",
       "      <td>100</td>\n",
       "      <td>81</td>\n",
       "      <td>10.74</td>\n",
       "      <td>3.07</td>\n",
       "      <td>172.79</td>\n",
       "    </tr>\n",
       "    <tr>\n",
       "      <th>4</th>\n",
       "      <td>Tuatapere</td>\n",
       "      <td>NZ</td>\n",
       "      <td>1608576269</td>\n",
       "      <td>55.00</td>\n",
       "      <td>100</td>\n",
       "      <td>96</td>\n",
       "      <td>1.99</td>\n",
       "      <td>-46.13</td>\n",
       "      <td>167.68</td>\n",
       "    </tr>\n",
       "    <tr>\n",
       "      <th>...</th>\n",
       "      <td>...</td>\n",
       "      <td>...</td>\n",
       "      <td>...</td>\n",
       "      <td>...</td>\n",
       "      <td>...</td>\n",
       "      <td>...</td>\n",
       "      <td>...</td>\n",
       "      <td>...</td>\n",
       "      <td>...</td>\n",
       "    </tr>\n",
       "    <tr>\n",
       "      <th>541</th>\n",
       "      <td>Gojō</td>\n",
       "      <td>JP</td>\n",
       "      <td>1608576362</td>\n",
       "      <td>46.40</td>\n",
       "      <td>86</td>\n",
       "      <td>61</td>\n",
       "      <td>12.75</td>\n",
       "      <td>34.35</td>\n",
       "      <td>135.70</td>\n",
       "    </tr>\n",
       "    <tr>\n",
       "      <th>542</th>\n",
       "      <td>Bucerías</td>\n",
       "      <td>MX</td>\n",
       "      <td>1608576363</td>\n",
       "      <td>77.00</td>\n",
       "      <td>75</td>\n",
       "      <td>65</td>\n",
       "      <td>5.64</td>\n",
       "      <td>20.75</td>\n",
       "      <td>-105.33</td>\n",
       "    </tr>\n",
       "    <tr>\n",
       "      <th>543</th>\n",
       "      <td>Belogorsk</td>\n",
       "      <td>RU</td>\n",
       "      <td>1608576363</td>\n",
       "      <td>3.34</td>\n",
       "      <td>100</td>\n",
       "      <td>94</td>\n",
       "      <td>4.59</td>\n",
       "      <td>50.92</td>\n",
       "      <td>128.46</td>\n",
       "    </tr>\n",
       "    <tr>\n",
       "      <th>544</th>\n",
       "      <td>San Rafael</td>\n",
       "      <td>AR</td>\n",
       "      <td>1608576318</td>\n",
       "      <td>90.36</td>\n",
       "      <td>0</td>\n",
       "      <td>18</td>\n",
       "      <td>15.39</td>\n",
       "      <td>-34.62</td>\n",
       "      <td>-68.33</td>\n",
       "    </tr>\n",
       "    <tr>\n",
       "      <th>545</th>\n",
       "      <td>Ixtapa</td>\n",
       "      <td>MX</td>\n",
       "      <td>1608576363</td>\n",
       "      <td>77.00</td>\n",
       "      <td>75</td>\n",
       "      <td>65</td>\n",
       "      <td>4.92</td>\n",
       "      <td>20.70</td>\n",
       "      <td>-105.20</td>\n",
       "    </tr>\n",
       "  </tbody>\n",
       "</table>\n",
       "<p>546 rows × 9 columns</p>\n",
       "</div>"
      ],
      "text/plain": [
       "               City Country        Date  Max Temp  Clouds  Humidity  \\\n",
       "City ID                                                               \n",
       "0        Livingston      GB  1608576268     42.01      90       100   \n",
       "1            Castro      BR  1608576059     76.24      67        84   \n",
       "2         Ilulissat      GL  1608576269     21.20      20        53   \n",
       "3        Butaritari      KI  1608576269     80.11     100        81   \n",
       "4         Tuatapere      NZ  1608576269     55.00     100        96   \n",
       "...             ...     ...         ...       ...     ...       ...   \n",
       "541            Gojō      JP  1608576362     46.40      86        61   \n",
       "542        Bucerías      MX  1608576363     77.00      75        65   \n",
       "543       Belogorsk      RU  1608576363      3.34     100        94   \n",
       "544      San Rafael      AR  1608576318     90.36       0        18   \n",
       "545          Ixtapa      MX  1608576363     77.00      75        65   \n",
       "\n",
       "         Wind Speed    Lat     Lng  \n",
       "City ID                             \n",
       "0              2.24  55.90   -3.52  \n",
       "1              7.09 -24.79  -50.01  \n",
       "2             13.87  69.22  -51.10  \n",
       "3             10.74   3.07  172.79  \n",
       "4              1.99 -46.13  167.68  \n",
       "...             ...    ...     ...  \n",
       "541           12.75  34.35  135.70  \n",
       "542            5.64  20.75 -105.33  \n",
       "543            4.59  50.92  128.46  \n",
       "544           15.39 -34.62  -68.33  \n",
       "545            4.92  20.70 -105.20  \n",
       "\n",
       "[546 rows x 9 columns]"
      ]
     },
     "execution_count": 9,
     "metadata": {},
     "output_type": "execute_result"
    }
   ],
   "source": [
    "# Create a clean city data file by dropping the index from above\n",
    "# (this did not drop anything since there is no humid city >100)\n",
    "clean_city_data = city_df.drop(index_list, inplace=False)\n",
    "clean_city_data"
   ]
  },
  {
   "cell_type": "markdown",
   "metadata": {},
   "source": [
    "# Plotting the Data"
   ]
  },
  {
   "cell_type": "code",
   "execution_count": 10,
   "metadata": {},
   "outputs": [
    {
     "data": {
      "text/plain": [
       "City ID\n",
       "0      1608576268\n",
       "1      1608576059\n",
       "2      1608576269\n",
       "3      1608576269\n",
       "4      1608576269\n",
       "          ...    \n",
       "541    1608576362\n",
       "542    1608576363\n",
       "543    1608576363\n",
       "544    1608576318\n",
       "545    1608576363\n",
       "Name: Date, Length: 546, dtype: int64"
      ]
     },
     "execution_count": 10,
     "metadata": {},
     "output_type": "execute_result"
    }
   ],
   "source": [
    "city_df[\"Date\"]"
   ]
  },
  {
   "cell_type": "code",
   "execution_count": 11,
   "metadata": {},
   "outputs": [
    {
     "data": {
      "text/plain": [
       "'2020-12-21'"
      ]
     },
     "execution_count": 11,
     "metadata": {},
     "output_type": "execute_result"
    }
   ],
   "source": [
    "# format the date\n",
    "city_date = datetime.datetime.fromtimestamp(int(city_df[\"Date\"][0])).strftime(\n",
    "    \"%Y-%m-%d\"\n",
    ")\n",
    "city_date"
   ]
  },
  {
   "cell_type": "code",
   "execution_count": 12,
   "metadata": {},
   "outputs": [
    {
     "data": {
      "image/png": "[encoded data removed]",
      "text/plain": [
       "<Figure size 432x288 with 1 Axes>"
      ]
     },
     "metadata": {
      "needs_background": "light"
     },
     "output_type": "display_data"
    }
   ],
   "source": [
    "# Graph the latitude vs the max temp\n",
    "plt.scatter(city_df[\"Lat\"], city_df[\"Max Temp\"], marker=\"o\", color=\"navy\", alpha=0.75)\n",
    "plt.grid()\n",
    "plt.xlabel(\"Latitude\")\n",
    "plt.ylabel(\"Max Temp (F)\")\n",
    "plt.title(f\"City Latitude vs Max Temperature ({city_date})\")\n",
    "plt.savefig(\"images/Latitude_vs_Max_Temp_scatter.png\")\n",
    "plt.show()"
   ]
  },
  {
   "cell_type": "markdown",
   "metadata": {},
   "source": [
    "##### This plot is showing the max temp from the south pole to the north pole. This data shows cities closer to the poles have a lower max temp than those cities closer the equater (0)."
   ]
  },
  {
   "cell_type": "code",
   "execution_count": 13,
   "metadata": {},
   "outputs": [
    {
     "data": {
      "image/png": "[encoded data removed]",
      "text/plain": [
       "<Figure size 432x288 with 1 Axes>"
      ]
     },
     "metadata": {
      "needs_background": "light"
     },
     "output_type": "display_data"
    }
   ],
   "source": [
    "# Graph the latitude vs the humidity\n",
    "plt.scatter(city_df[\"Lat\"], city_df[\"Humidity\"], marker=\"o\", color=\"navy\", alpha=0.75)\n",
    "plt.grid()\n",
    "plt.xlabel(\"Latitude\")\n",
    "plt.ylabel(\"Humidity (%)\")\n",
    "plt.title(f\"City Latitude vs Humidity ({city_date})\")\n",
    "plt.savefig(\"images/Latitude_vs_Humidity_scatter.png\")\n",
    "plt.show()"
   ]
  },
  {
   "cell_type": "markdown",
   "metadata": {},
   "source": [
    "##### This plot is showing the humidity from the south pole to the north pole. Most of the cities in this plot have a high percentage of humidity."
   ]
  },
  {
   "cell_type": "code",
   "execution_count": 14,
   "metadata": {},
   "outputs": [
    {
     "data": {
      "image/png": "[encoded data removed]",
      "text/plain": [
       "<Figure size 432x288 with 1 Axes>"
      ]
     },
     "metadata": {
      "needs_background": "light"
     },
     "output_type": "display_data"
    }
   ],
   "source": [
    "# Graph the latitude vs the cloudiness\n",
    "plt.scatter(city_df[\"Lat\"], city_df[\"Clouds\"], marker=\"o\", color=\"navy\", alpha=0.75)\n",
    "plt.grid()\n",
    "plt.xlabel(\"Latitude\")\n",
    "plt.ylabel(\"Cloudiness (%)\")\n",
    "plt.title(f\"City Latitude vs Cloudiness ({city_date})\")\n",
    "plt.savefig(\"images/Latitude_vs_Cloudiness_scatter.png\")\n",
    "plt.show()"
   ]
  },
  {
   "cell_type": "markdown",
   "metadata": {},
   "source": [
    "##### This plot is showing the cloudiness of cities from the south pole to the north pole. I do not see a trend in the cloudiness of cities. It does look like a large amount of cities have 0% cloudiness and a large amount have 100% cloudiness."
   ]
  },
  {
   "cell_type": "code",
   "execution_count": 15,
   "metadata": {},
   "outputs": [
    {
     "data": {
      "image/png": "[encoded data removed]",
      "text/plain": [
       "<Figure size 432x288 with 1 Axes>"
      ]
     },
     "metadata": {
      "needs_background": "light"
     },
     "output_type": "display_data"
    }
   ],
   "source": [
    "# Graph the latitude vs the wind speed\n",
    "plt.scatter(city_df[\"Lat\"], city_df[\"Wind Speed\"], marker=\"o\", color=\"navy\", alpha=0.75)\n",
    "plt.grid()\n",
    "plt.xlabel(\"Latitude\")\n",
    "plt.ylabel(\"Wind Speed (mph)\")\n",
    "plt.title(f\"City Latitude vs Wind Speed ({city_date})\")\n",
    "plt.savefig(\"images/Latitude_vs_Wind_Speed_scatter.png\")\n",
    "plt.show()"
   ]
  },
  {
   "cell_type": "markdown",
   "metadata": {},
   "source": [
    "##### This plot shows the wind speed of cities from the south to north pole. A majority of the cities have a low wind speed, there are some outliers on either hemisphere that have a higher wind speed >20 mph."
   ]
  },
  {
   "cell_type": "markdown",
   "metadata": {},
   "source": [
    "# Linear Regression"
   ]
  },
  {
   "cell_type": "code",
   "execution_count": 16,
   "metadata": {},
   "outputs": [],
   "source": [
    "# create linear regression function\n",
    "def linear_regression(x_value, y_value):\n",
    "    (slope, intercept, rvalue, pvalue, stderr) = linregress(x_value, y_value)\n",
    "    regress_values = x_value * slope + intercept\n",
    "    eq = \"y = \" + str(round(slope, 2)) + \"x + \" + str(round(intercept, 2))\n",
    "    plt.scatter(x_value, y_value)\n",
    "    plt.plot(x_value, regress_values, \"r-\")\n",
    "    return [eq, rvalue]\n",
    "\n",
    "\n",
    "def annotate(eq, a, b):\n",
    "    plt.annotate(eq, (a, b), fontsize=10, color=\"red\")"
   ]
  },
  {
   "cell_type": "code",
   "execution_count": 17,
   "metadata": {},
   "outputs": [],
   "source": [
    "# northern and southern hemisphere dataframes\n",
    "north = city_df.loc[city_df[\"Lat\"] >= 0]\n",
    "north_df = pd.DataFrame(north)\n",
    "\n",
    "south = city_df.loc[city_df[\"Lat\"] < 0]\n",
    "south_df = pd.DataFrame(south)"
   ]
  },
  {
   "cell_type": "markdown",
   "metadata": {},
   "source": [
    "### Northern Hemisphere - Max Temp vs Latitude Linear Regression"
   ]
  },
  {
   "cell_type": "code",
   "execution_count": 18,
   "metadata": {},
   "outputs": [
    {
     "name": "stdout",
     "output_type": "stream",
     "text": [
      "The r-squared is: 0.7221688955990128\n"
     ]
    },
    {
     "data": {
      "image/png": "[encoded data removed]",
      "text/plain": [
       "<Figure size 432x288 with 1 Axes>"
      ]
     },
     "metadata": {
      "needs_background": "light"
     },
     "output_type": "display_data"
    }
   ],
   "source": [
    "equation = linear_regression(north_df[\"Lat\"], north_df[\"Max Temp\"])\n",
    "\n",
    "annotate(equation[0], 5, 15)\n",
    "\n",
    "plt.title(f\"Northern Hemisphere - Max Temp vs Latitude Linear Regression\")\n",
    "plt.xlabel(\"Latitude\")\n",
    "plt.ylabel(\"Max Temp (F)\")\n",
    "print(f\"The r-squared is: {equation[1]**2}\")\n",
    "plt.savefig(\"images/Northern_Hemisphere-Max_Temp_vs_Lat\")"
   ]
  },
  {
   "cell_type": "markdown",
   "metadata": {},
   "source": [
    "##### This plot shows the max temp of cities in the northern hemisphere. The linear regression is modeling a relationship that temperatures decrease the further away the city is from the equator."
   ]
  },
  {
   "cell_type": "markdown",
   "metadata": {},
   "source": [
    "### Southern Hemisphere - Max Temp vs Latitude Linear Regression"
   ]
  },
  {
   "cell_type": "code",
   "execution_count": 19,
   "metadata": {},
   "outputs": [
    {
     "name": "stdout",
     "output_type": "stream",
     "text": [
      "The r-squared is: 0.268016881928747\n"
     ]
    },
    {
     "data": {
      "image/png": "[encoded data removed]",
      "text/plain": [
       "<Figure size 432x288 with 1 Axes>"
      ]
     },
     "metadata": {
      "needs_background": "light"
     },
     "output_type": "display_data"
    }
   ],
   "source": [
    "equation = linear_regression(south_df[\"Lat\"], south_df[\"Max Temp\"])\n",
    "\n",
    "annotate(equation[0], -50, 90)\n",
    "\n",
    "plt.title(f\"Southern Hemisphere - Max Temp vs Latitude Linear Regression\")\n",
    "plt.xlabel(\"Latitude\")\n",
    "plt.ylabel(\"Max Temp (F)\")\n",
    "print(f\"The r-squared is: {equation[1]**2}\")\n",
    "plt.savefig(\"images/Southern_Hemisphere-Max_Temp_vs_Lat\")"
   ]
  },
  {
   "cell_type": "markdown",
   "metadata": {},
   "source": [
    "##### This plot shows the max temp of cities in the southern hemisphere. The linear regression is modeling a relationship that temperatures increase the closer the city is to the equator."
   ]
  },
  {
   "cell_type": "markdown",
   "metadata": {},
   "source": [
    "### Northern Hemisphere - Humidity vs Latitude Linear Regression "
   ]
  },
  {
   "cell_type": "code",
   "execution_count": 20,
   "metadata": {},
   "outputs": [
    {
     "name": "stdout",
     "output_type": "stream",
     "text": [
      "The r-squared is: 0.13087474042567934\n"
     ]
    },
    {
     "data": {
      "image/png": "[encoded data removed]",
      "text/plain": [
       "<Figure size 432x288 with 1 Axes>"
      ]
     },
     "metadata": {
      "needs_background": "light"
     },
     "output_type": "display_data"
    }
   ],
   "source": [
    "equation = linear_regression(north_df[\"Lat\"], north_df[\"Humidity\"])\n",
    "\n",
    "annotate(equation[0], 55, 15)\n",
    "\n",
    "plt.title(f\"Northern Hemisphere - Humidity vs Latitude Linear Regression\")\n",
    "plt.xlabel(\"Latitude\")\n",
    "plt.ylabel(\"Humidity (%)\")\n",
    "print(f\"The r-squared is: {equation[1]**2}\")\n",
    "plt.savefig(\"images/Northern_Hemisphere-Humidity_vs_Lat\")"
   ]
  },
  {
   "cell_type": "markdown",
   "metadata": {},
   "source": [
    "##### This plot shows the humidity of cities in the northern hemisphere. The linear regression is modeling a relationship that humidity slowly increase the further the city is from the equator. However, the linear regression is not a good depiction of the data as there are a lot of cities that are far away from the regression line."
   ]
  },
  {
   "cell_type": "markdown",
   "metadata": {},
   "source": [
    "### Southern Hemisphere - Humidity vs Latitude Linear Regression "
   ]
  },
  {
   "cell_type": "code",
   "execution_count": 21,
   "metadata": {},
   "outputs": [
    {
     "name": "stdout",
     "output_type": "stream",
     "text": [
      "The r-squared is: 0.04608787011726245\n"
     ]
    },
    {
     "data": {
      "image/png": "[encoded data removed]",
      "text/plain": [
       "<Figure size 432x288 with 1 Axes>"
      ]
     },
     "metadata": {
      "needs_background": "light"
     },
     "output_type": "display_data"
    }
   ],
   "source": [
    "equation = linear_regression(south_df[\"Lat\"], south_df[\"Humidity\"])\n",
    "\n",
    "annotate(equation[0], -55, 20)\n",
    "\n",
    "plt.title(f\"Southern Hemisphere - Humidity vs Latitude Linear Regression\")\n",
    "plt.xlabel(\"Latitude\")\n",
    "plt.ylabel(\"Humidity (%)\")\n",
    "print(f\"The r-squared is: {equation[1]**2}\")\n",
    "plt.savefig(\"images/Southern_Hemisphere-Humidity_vs_Lat\")"
   ]
  },
  {
   "cell_type": "markdown",
   "metadata": {},
   "source": [
    "##### This plot shows the humidity of cities in the southern hemisphere. The linear regression is modeling a relationship that humidity slowly increase the closer the city is to the equator. However, the linear regression is not a good depiction of the data as there are a lot of cities that are far away from the regression line."
   ]
  },
  {
   "cell_type": "markdown",
   "metadata": {},
   "source": [
    "###  Northern Hemisphere - Cloudiness vs Latitude Linear Regression"
   ]
  },
  {
   "cell_type": "code",
   "execution_count": 22,
   "metadata": {},
   "outputs": [
    {
     "name": "stdout",
     "output_type": "stream",
     "text": [
      "The r-squared is: 0.057653578561208056\n"
     ]
    },
    {
     "data": {
      "image/png": "[encoded data removed]",
      "text/plain": [
       "<Figure size 432x288 with 1 Axes>"
      ]
     },
     "metadata": {
      "needs_background": "light"
     },
     "output_type": "display_data"
    }
   ],
   "source": [
    "equation = linear_regression(north_df[\"Lat\"], north_df[\"Clouds\"])\n",
    "\n",
    "annotate(equation[0], 60, 30)\n",
    "\n",
    "plt.title(f\"Northern Hemisphere - Cloudiness vs Latitude Linear Regression\")\n",
    "plt.xlabel(\"Latitude\")\n",
    "plt.ylabel(\"Cloudiness (%)\")\n",
    "print(f\"The r-squared is: {equation[1]**2}\")\n",
    "plt.savefig(\"images/Northern_Hemisphere-Cloudiness_vs_Lat\")"
   ]
  },
  {
   "cell_type": "markdown",
   "metadata": {},
   "source": [
    "##### This plot shows the cloudiness of cities in the northern hemisphere. The linear regression line shows no relationship in the data."
   ]
  },
  {
   "cell_type": "markdown",
   "metadata": {},
   "source": [
    "### Southern Hemisphere - Cloudiness vs Latitude Linear Regression"
   ]
  },
  {
   "cell_type": "code",
   "execution_count": 23,
   "metadata": {},
   "outputs": [
    {
     "name": "stdout",
     "output_type": "stream",
     "text": [
      "The r-squared is: 0.028576265175307675\n"
     ]
    },
    {
     "data": {
      "image/png": "[encoded data removed]",
      "text/plain": [
       "<Figure size 432x288 with 1 Axes>"
      ]
     },
     "metadata": {
      "needs_background": "light"
     },
     "output_type": "display_data"
    }
   ],
   "source": [
    "equation = linear_regression(south_df[\"Lat\"], south_df[\"Clouds\"])\n",
    "\n",
    "annotate(equation[0], -55, 5)\n",
    "\n",
    "plt.title(f\"Southern Hemisphere - Cloudiness vs Latitude Linear Regression\")\n",
    "plt.xlabel(\"Latitude\")\n",
    "plt.ylabel(\"Cloudiness (%)\")\n",
    "print(f\"The r-squared is: {equation[1]**2}\")\n",
    "plt.savefig(\"images/Southern_Hemisphere-Cloudiness_vs_Lat\")"
   ]
  },
  {
   "cell_type": "markdown",
   "metadata": {},
   "source": [
    "##### This plot shows the cloudiness of cities in the southern hemisphere. The linear regression line shows no relationship in the data. There is a slight decrease in the regression but the data points are no where near the line so a linear regression is not a good model to show a relationship"
   ]
  },
  {
   "cell_type": "markdown",
   "metadata": {},
   "source": [
    "###  Northern Hemisphere - Wind Speed vs Latitude Linear Regression"
   ]
  },
  {
   "cell_type": "code",
   "execution_count": 24,
   "metadata": {},
   "outputs": [
    {
     "name": "stdout",
     "output_type": "stream",
     "text": [
      "The r-squared is: 0.0002553652429038769\n"
     ]
    },
    {
     "data": {
      "image/png": "[encoded data removed]",
      "text/plain": [
       "<Figure size 432x288 with 1 Axes>"
      ]
     },
     "metadata": {
      "needs_background": "light"
     },
     "output_type": "display_data"
    }
   ],
   "source": [
    "equation = linear_regression(north_df[\"Lat\"], north_df[\"Wind Speed\"])\n",
    "\n",
    "annotate(equation[0], 10, 30)\n",
    "\n",
    "plt.title(f\"Northern Hemisphere - Wind Speed vs Latitude Linear Regression\")\n",
    "plt.xlabel(\"Latitude\")\n",
    "plt.ylabel(\"Wind Speed (mph)\")\n",
    "print(f\"The r-squared is: {equation[1]**2}\")\n",
    "plt.savefig(\"images/Northern_Hemisphere-Wind_Speed_vs_Lat\")"
   ]
  },
  {
   "cell_type": "markdown",
   "metadata": {},
   "source": [
    "##### This plot shows the cloudiness of cities in the northern hemisphere. The linear regression line shows an increase in cloudiness the further away a city is from the equator but the line is also not a good representation of the data as there are many outliers."
   ]
  },
  {
   "cell_type": "markdown",
   "metadata": {},
   "source": [
    "###  Southern Hemisphere - Wind Speed vs Latitude Linear Regression"
   ]
  },
  {
   "cell_type": "code",
   "execution_count": 25,
   "metadata": {},
   "outputs": [
    {
     "name": "stdout",
     "output_type": "stream",
     "text": [
      "The r-squared is: 0.049113006930517095\n"
     ]
    },
    {
     "data": {
      "image/png": "[encoded data removed]",
      "text/plain": [
       "<Figure size 432x288 with 1 Axes>"
      ]
     },
     "metadata": {
      "needs_background": "light"
     },
     "output_type": "display_data"
    }
   ],
   "source": [
    "equation = linear_regression(south_df[\"Lat\"], south_df[\"Wind Speed\"])\n",
    "\n",
    "annotate(equation[0], -20, 30)\n",
    "\n",
    "plt.title(f\"Southern Hemisphere - Wind Speed vs Latitude Linear Regression\")\n",
    "plt.xlabel(\"Latitude\")\n",
    "plt.ylabel(\"Wind Speed (mph)\")\n",
    "print(f\"The r-squared is: {equation[1]**2}\")\n",
    "plt.savefig(\"images/Southern_Hemisphere-Wind_Speed_vs_Lat\")"
   ]
  },
  {
   "cell_type": "markdown",
   "metadata": {},
   "source": [
    "##### This plot shows the cloudiness of cities in the southern hemisphere. The linear regression line shows an decrease in cloudiness the closer a city is to the equator but the line is also not a good representation of the data as there are many outliers."
   ]
  },
  {
   "cell_type": "code",
   "execution_count": null,
   "metadata": {},
   "outputs": [],
   "source": []
  }
 ],
 "metadata": {
  "environment": {
   "name": "common-cpu.m54",
   "type": "gcloud",
   "uri": "gcr.io/deeplearning-platform-release/base-cpu:m54"
  },
  "kernelspec": {
   "display_name": "Python 3",
   "language": "python",
   "name": "python3"
  },
  "language_info": {
   "codemirror_mode": {
    "name": "ipython",
    "version": 3
   },
   "file_extension": ".py",
   "mimetype": "text/x-python",
   "name": "python",
   "nbconvert_exporter": "python",
   "pygments_lexer": "ipython3",
   "version": "3.7.8"
  }
 },
 "nbformat": 4,
 "nbformat_minor": 4
}
