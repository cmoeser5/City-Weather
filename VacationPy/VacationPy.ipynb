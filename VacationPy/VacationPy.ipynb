{
 "cells": [
  {
   "cell_type": "markdown",
   "metadata": {},
   "source": [
    "# VacationPy\n",
    "------------"
   ]
  },
  {
   "cell_type": "code",
   "execution_count": 1,
   "metadata": {},
   "outputs": [],
   "source": [
    "import pandas as pd\n",
    "import matplotlib.pyplot as plt\n",
    "import requests"
   ]
  },
  {
   "cell_type": "markdown",
   "metadata": {},
   "source": [
    "### Store Part 1 results into DataFrame\n",
    "* Load the csv exported in Part 1 to a DataFrame"
   ]
  },
  {
   "cell_type": "code",
   "execution_count": 2,
   "metadata": {},
   "outputs": [
    {
     "data": {
      "text/html": [
       "<div>\n",
       "<style scoped>\n",
       "    .dataframe tbody tr th:only-of-type {\n",
       "        vertical-align: middle;\n",
       "    }\n",
       "\n",
       "    .dataframe tbody tr th {\n",
       "        vertical-align: top;\n",
       "    }\n",
       "\n",
       "    .dataframe thead th {\n",
       "        text-align: right;\n",
       "    }\n",
       "</style>\n",
       "<table border=\"1\" class=\"dataframe\">\n",
       "  <thead>\n",
       "    <tr style=\"text-align: right;\">\n",
       "      <th></th>\n",
       "      <th>City ID</th>\n",
       "      <th>City</th>\n",
       "      <th>Country</th>\n",
       "      <th>Date</th>\n",
       "      <th>Max Temp</th>\n",
       "      <th>Clouds</th>\n",
       "      <th>Humidity</th>\n",
       "      <th>Wind Speed</th>\n",
       "      <th>Lat</th>\n",
       "      <th>Lng</th>\n",
       "    </tr>\n",
       "  </thead>\n",
       "  <tbody>\n",
       "    <tr>\n",
       "      <th>0</th>\n",
       "      <td>0</td>\n",
       "      <td>Clyde River</td>\n",
       "      <td>CA</td>\n",
       "      <td>1601160090</td>\n",
       "      <td>26.60</td>\n",
       "      <td>75</td>\n",
       "      <td>100</td>\n",
       "      <td>9.17</td>\n",
       "      <td>70.47</td>\n",
       "      <td>-68.59</td>\n",
       "    </tr>\n",
       "    <tr>\n",
       "      <th>1</th>\n",
       "      <td>1</td>\n",
       "      <td>Faanui</td>\n",
       "      <td>PF</td>\n",
       "      <td>1601159542</td>\n",
       "      <td>78.73</td>\n",
       "      <td>8</td>\n",
       "      <td>77</td>\n",
       "      <td>12.73</td>\n",
       "      <td>-16.48</td>\n",
       "      <td>-151.75</td>\n",
       "    </tr>\n",
       "    <tr>\n",
       "      <th>2</th>\n",
       "      <td>2</td>\n",
       "      <td>Hermanus</td>\n",
       "      <td>ZA</td>\n",
       "      <td>1601160090</td>\n",
       "      <td>45.00</td>\n",
       "      <td>30</td>\n",
       "      <td>92</td>\n",
       "      <td>6.26</td>\n",
       "      <td>-34.42</td>\n",
       "      <td>19.23</td>\n",
       "    </tr>\n",
       "    <tr>\n",
       "      <th>3</th>\n",
       "      <td>3</td>\n",
       "      <td>Hobart</td>\n",
       "      <td>AU</td>\n",
       "      <td>1601159834</td>\n",
       "      <td>46.99</td>\n",
       "      <td>75</td>\n",
       "      <td>49</td>\n",
       "      <td>16.11</td>\n",
       "      <td>-42.88</td>\n",
       "      <td>147.33</td>\n",
       "    </tr>\n",
       "    <tr>\n",
       "      <th>4</th>\n",
       "      <td>4</td>\n",
       "      <td>Luena</td>\n",
       "      <td>AO</td>\n",
       "      <td>1601160091</td>\n",
       "      <td>66.29</td>\n",
       "      <td>0</td>\n",
       "      <td>29</td>\n",
       "      <td>2.51</td>\n",
       "      <td>-11.78</td>\n",
       "      <td>19.92</td>\n",
       "    </tr>\n",
       "  </tbody>\n",
       "</table>\n",
       "</div>"
      ],
      "text/plain": [
       "   City ID         City Country        Date  Max Temp  Clouds  Humidity  \\\n",
       "0        0  Clyde River      CA  1601160090     26.60      75       100   \n",
       "1        1       Faanui      PF  1601159542     78.73       8        77   \n",
       "2        2     Hermanus      ZA  1601160090     45.00      30        92   \n",
       "3        3       Hobart      AU  1601159834     46.99      75        49   \n",
       "4        4        Luena      AO  1601160091     66.29       0        29   \n",
       "\n",
       "   Wind Speed    Lat     Lng  \n",
       "0        9.17  70.47  -68.59  \n",
       "1       12.73 -16.48 -151.75  \n",
       "2        6.26 -34.42   19.23  \n",
       "3       16.11 -42.88  147.33  \n",
       "4        2.51 -11.78   19.92  "
      ]
     },
     "execution_count": 2,
     "metadata": {},
     "output_type": "execute_result"
    }
   ],
   "source": [
    "# import data file\n",
    "file = \"../WeatherPy/output_data/city_list.csv\"\n",
    "df = pd.read_csv(file)\n",
    "df.head()"
   ]
  },
  {
   "cell_type": "code",
   "execution_count": null,
   "metadata": {},
   "outputs": [],
   "source": []
  }
 ],
 "metadata": {
  "environment": {
   "name": "common-cpu.m54",
   "type": "gcloud",
   "uri": "gcr.io/deeplearning-platform-release/base-cpu:m54"
  },
  "kernelspec": {
   "display_name": "Python 3",
   "language": "python",
   "name": "python3"
  },
  "language_info": {
   "codemirror_mode": {
    "name": "ipython",
    "version": 3
   },
   "file_extension": ".py",
   "mimetype": "text/x-python",
   "name": "python",
   "nbconvert_exporter": "python",
   "pygments_lexer": "ipython3",
   "version": "3.7.8"
  }
 },
 "nbformat": 4,
 "nbformat_minor": 4
}
